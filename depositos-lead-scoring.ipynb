{
 "cells": [
  {
   "cell_type": "markdown",
   "id": "800d16b7-c69e-404c-9d40-bf085a726f1e",
   "metadata": {},
   "source": [
    "# Rankeo de *leads*.\n",
    "\n",
    "Imagina que trabajas para un banco y este banco ofrece inversiones a plazo fijo a sus clientes. Como parte de una campaña para ampliar la cantidad de inversiones a plazo fijo que sus clientes han adquirido, la compañía utiliza diversos métodos de contacto, entre los cuales el teléfono es todavía una de las formas más efectivas.\n",
    "\n",
    "Al banco le encantaría llamar a todos sus clientes, sin embargo, esto no es posible porque el call center no se da abasto y es importante priorizar a quienes hay que llamar para garantizar el máximo número de conversiones.\n",
    "\n",
    "**Tu tarea es encontrar una forma de clasificar y rankear (ordenar) las llamadas de tal modo que los agentes del centro de llamadas, llame primero a quien tiene más probabilidades de depositar su dinero.**"
   ]
  },
  {
   "cell_type": "markdown",
   "id": "ad9e3692-8d7e-4ad1-8ef5-4542513807f1",
   "metadata": {},
   "source": [
    "![](https://ik.imagekit.io/thatcsharpguy/projects/codigo-facilito/machine-learning/deposito-header.jpg?ik-sdk-version=javascript-1.4.3&updatedAt=1669051927251)"
   ]
  },
  {
   "cell_type": "markdown",
   "id": "4094df7c-2e54-4040-ab0d-79536ee22e80",
   "metadata": {},
   "source": [
    "## Código\n",
    "\n",
    "### [https://github.com/fferegrino/cf-ml/tree/main/term-deposit](https://github.com/fferegrino/cf-ml/tree/main/term-deposit)\n",
    "\n",
    "## Dataset\n",
    "\n",
    "Este dataset es una versión modificada de [Term Deposit Prediction Data Set](https://www.kaggle.com/datasets/brajeshmohapatra/term-deposit-prediction-data-set) disponible en Kaggle.\n",
    "\n"
   ]
  },
  {
   "cell_type": "markdown",
   "id": "384e2660-3596-4c51-bd3f-1d9612395346",
   "metadata": {},
   "source": [
    "## Solución  \n",
    "\n",
    "La empresa tiene información de clientes anteriores que en algún momento han sido contactados en el pasado comprar la inversión en el pasado sin importar si lo compraron o no. Esta información está contenida en el archivo `train.csv`.\n",
    "\n",
    "Así mismo, para ayudarte hay un archivo llamado `test.csv` con datos de otros clientes pero que deberás usar para probar tus resultados.\n",
    "\n",
    "**Como no tenemos más información más allá de si un cliente compró o no compró, vamos a utilizar las probabilidades que nos de un modelo de clasificación para decidir quién tiene más probabilidades de convertir**.\n",
    "\n",
    "Este problema se conoce como *lead scoring*."
   ]
  },
  {
   "cell_type": "markdown",
   "id": "07b4a7cb-65d6-4c4e-bc80-edbe374f7134",
   "metadata": {},
   "source": [
    "### Descripción de los datos\n",
    "\n",
    "| Variable     | Definición                                                              |\n",
    "|--------------|-------------------------------------------------------------------------|\n",
    "| *ID*         | Identificador único del cliente                                         |\n",
    "| *age*        | Edad del cliente                                                        |\n",
    "| *job*        | Trabajo que desempeña el cliente                                        |\n",
    "| *marital*    | Estado marital del cliente                                              |\n",
    "| *education*  | Nivel de educación del cliente                                          |\n",
    "| *default*    | Especifica si el cliente tiene una deuda no pagada                      |\n",
    "| *balance*    | Saldo promedio anual del cliente                                        |\n",
    "| *housing*    | Indica si el cliente tiene una hipoteca con el banco                    |\n",
    "| *loan*       | Indica si el cliente tiene un préstamo personal                         |\n",
    "| *contact*    | El medio por el cual se ha estado contactando al cliente                |\n",
    "| *month*      | El mes en el que se contactó al cliente                                 |\n",
    "| *day*        | El día en el que se contactó al cliente                                 |\n",
    "| *duration*   | Duración del contacto con el cliente                                    |\n",
    "| *campaign*   | El número de veces que el banco se ha puesto en contacto con el cliente |\n",
    "| *pdays*      | Número de días que han transcurrido desde el último contacto            |\n",
    "| *previous*   | Número de veces que se ha contactado al cliente antes de esta campaña   |\n",
    "| *poutcome*   | Si el cliente ha comprado productos como resutlado de la campaña previa |\n",
    "| *subscribed* | Si el cliente se suscribió como resultado de la campaña más reciente    |\n"
   ]
  },
  {
   "cell_type": "code",
   "execution_count": 1,
   "id": "dabcc66e-6111-4634-9aec-41578892c8a0",
   "metadata": {},
   "outputs": [],
   "source": [
    "import pandas as pd\n",
    "import numpy as np"
   ]
  },
  {
   "cell_type": "code",
   "execution_count": 2,
   "id": "ed03ec50-8e9f-4963-9af2-e18a67545168",
   "metadata": {},
   "outputs": [
    {
     "data": {
      "text/html": [
       "<div>\n",
       "<style scoped>\n",
       "    .dataframe tbody tr th:only-of-type {\n",
       "        vertical-align: middle;\n",
       "    }\n",
       "\n",
       "    .dataframe tbody tr th {\n",
       "        vertical-align: top;\n",
       "    }\n",
       "\n",
       "    .dataframe thead th {\n",
       "        text-align: right;\n",
       "    }\n",
       "</style>\n",
       "<table border=\"1\" class=\"dataframe\">\n",
       "  <thead>\n",
       "    <tr style=\"text-align: right;\">\n",
       "      <th></th>\n",
       "      <th>ID</th>\n",
       "      <th>age</th>\n",
       "      <th>job</th>\n",
       "      <th>marital</th>\n",
       "      <th>education</th>\n",
       "      <th>default</th>\n",
       "      <th>balance</th>\n",
       "      <th>housing</th>\n",
       "      <th>loan</th>\n",
       "      <th>contact</th>\n",
       "      <th>day</th>\n",
       "      <th>month</th>\n",
       "      <th>duration</th>\n",
       "      <th>campaign</th>\n",
       "      <th>pdays</th>\n",
       "      <th>previous</th>\n",
       "      <th>poutcome</th>\n",
       "      <th>subscribed</th>\n",
       "    </tr>\n",
       "  </thead>\n",
       "  <tbody>\n",
       "    <tr>\n",
       "      <th>0</th>\n",
       "      <td>26110</td>\n",
       "      <td>56</td>\n",
       "      <td>admin.</td>\n",
       "      <td>married</td>\n",
       "      <td>unknown</td>\n",
       "      <td>no</td>\n",
       "      <td>1933</td>\n",
       "      <td>no</td>\n",
       "      <td>no</td>\n",
       "      <td>telephone</td>\n",
       "      <td>19</td>\n",
       "      <td>nov</td>\n",
       "      <td>44</td>\n",
       "      <td>2</td>\n",
       "      <td>-1</td>\n",
       "      <td>0</td>\n",
       "      <td>unknown</td>\n",
       "      <td>no</td>\n",
       "    </tr>\n",
       "    <tr>\n",
       "      <th>1</th>\n",
       "      <td>40576</td>\n",
       "      <td>31</td>\n",
       "      <td>unknown</td>\n",
       "      <td>married</td>\n",
       "      <td>secondary</td>\n",
       "      <td>no</td>\n",
       "      <td>3</td>\n",
       "      <td>no</td>\n",
       "      <td>no</td>\n",
       "      <td>cellular</td>\n",
       "      <td>20</td>\n",
       "      <td>jul</td>\n",
       "      <td>91</td>\n",
       "      <td>2</td>\n",
       "      <td>-1</td>\n",
       "      <td>0</td>\n",
       "      <td>unknown</td>\n",
       "      <td>no</td>\n",
       "    </tr>\n",
       "    <tr>\n",
       "      <th>2</th>\n",
       "      <td>15320</td>\n",
       "      <td>27</td>\n",
       "      <td>services</td>\n",
       "      <td>married</td>\n",
       "      <td>secondary</td>\n",
       "      <td>no</td>\n",
       "      <td>891</td>\n",
       "      <td>yes</td>\n",
       "      <td>no</td>\n",
       "      <td>cellular</td>\n",
       "      <td>18</td>\n",
       "      <td>jul</td>\n",
       "      <td>240</td>\n",
       "      <td>1</td>\n",
       "      <td>-1</td>\n",
       "      <td>0</td>\n",
       "      <td>unknown</td>\n",
       "      <td>no</td>\n",
       "    </tr>\n",
       "    <tr>\n",
       "      <th>3</th>\n",
       "      <td>43962</td>\n",
       "      <td>57</td>\n",
       "      <td>management</td>\n",
       "      <td>divorced</td>\n",
       "      <td>tertiary</td>\n",
       "      <td>no</td>\n",
       "      <td>3287</td>\n",
       "      <td>no</td>\n",
       "      <td>no</td>\n",
       "      <td>cellular</td>\n",
       "      <td>22</td>\n",
       "      <td>jun</td>\n",
       "      <td>867</td>\n",
       "      <td>1</td>\n",
       "      <td>84</td>\n",
       "      <td>3</td>\n",
       "      <td>success</td>\n",
       "      <td>yes</td>\n",
       "    </tr>\n",
       "    <tr>\n",
       "      <th>4</th>\n",
       "      <td>29842</td>\n",
       "      <td>31</td>\n",
       "      <td>technician</td>\n",
       "      <td>married</td>\n",
       "      <td>secondary</td>\n",
       "      <td>no</td>\n",
       "      <td>119</td>\n",
       "      <td>yes</td>\n",
       "      <td>no</td>\n",
       "      <td>cellular</td>\n",
       "      <td>4</td>\n",
       "      <td>feb</td>\n",
       "      <td>380</td>\n",
       "      <td>1</td>\n",
       "      <td>-1</td>\n",
       "      <td>0</td>\n",
       "      <td>unknown</td>\n",
       "      <td>no</td>\n",
       "    </tr>\n",
       "  </tbody>\n",
       "</table>\n",
       "</div>"
      ],
      "text/plain": [
       "      ID  age         job   marital  education default  balance housing loan  \\\n",
       "0  26110   56      admin.   married    unknown      no     1933      no   no   \n",
       "1  40576   31     unknown   married  secondary      no        3      no   no   \n",
       "2  15320   27    services   married  secondary      no      891     yes   no   \n",
       "3  43962   57  management  divorced   tertiary      no     3287      no   no   \n",
       "4  29842   31  technician   married  secondary      no      119     yes   no   \n",
       "\n",
       "     contact  day month  duration  campaign  pdays  previous poutcome  \\\n",
       "0  telephone   19   nov        44         2     -1         0  unknown   \n",
       "1   cellular   20   jul        91         2     -1         0  unknown   \n",
       "2   cellular   18   jul       240         1     -1         0  unknown   \n",
       "3   cellular   22   jun       867         1     84         3  success   \n",
       "4   cellular    4   feb       380         1     -1         0  unknown   \n",
       "\n",
       "  subscribed  \n",
       "0         no  \n",
       "1         no  \n",
       "2         no  \n",
       "3        yes  \n",
       "4         no  "
      ]
     },
     "execution_count": 2,
     "metadata": {},
     "output_type": "execute_result"
    }
   ],
   "source": [
    "train = pd.read_csv(\"train.csv\")\n",
    "train.head()"
   ]
  },
  {
   "cell_type": "markdown",
   "id": "8612e61c-053a-410b-a31b-6ee3fb1f7c00",
   "metadata": {},
   "source": [
    "## EDA"
   ]
  },
  {
   "cell_type": "code",
   "execution_count": 3,
   "id": "453f7184-927d-40ee-9e25-8eb15f237891",
   "metadata": {},
   "outputs": [],
   "source": [
    "from pandas_profiling import ProfileReport\n",
    "import seaborn as sns"
   ]
  },
  {
   "cell_type": "code",
   "execution_count": 4,
   "id": "90afda1c-b00f-47eb-9632-4001dfac70f0",
   "metadata": {},
   "outputs": [
    {
     "data": {
      "application/vnd.jupyter.widget-view+json": {
       "model_id": "dc858fb0f1154b389d65673f94571874",
       "version_major": 2,
       "version_minor": 0
      },
      "text/plain": [
       "Summarize dataset:   0%|          | 0/5 [00:00<?, ?it/s]"
      ]
     },
     "metadata": {},
     "output_type": "display_data"
    },
    {
     "name": "stderr",
     "output_type": "stream",
     "text": [
      "c:\\Users\\cajiv\\OneDrive\\env_python\\cienciadatos\\lib\\site-packages\\multimethod\\__init__.py:315: FutureWarning: The default value of numeric_only in DataFrame.corr is deprecated. In a future version, it will default to False. Select only valid columns or specify the value of numeric_only to silence this warning.\n",
      "  return func(*args, **kwargs)\n"
     ]
    },
    {
     "data": {
      "application/vnd.jupyter.widget-view+json": {
       "model_id": "cf33e35fe2ec4fda8fa7d858228d2d7c",
       "version_major": 2,
       "version_minor": 0
      },
      "text/plain": [
       "Generate report structure:   0%|          | 0/1 [00:00<?, ?it/s]"
      ]
     },
     "metadata": {},
     "output_type": "display_data"
    },
    {
     "data": {
      "application/vnd.jupyter.widget-view+json": {
       "model_id": "c60805881f3f4cfabf26efc3a1a0178c",
       "version_major": 2,
       "version_minor": 0
      },
      "text/plain": [
       "Render HTML:   0%|          | 0/1 [00:00<?, ?it/s]"
      ]
     },
     "metadata": {},
     "output_type": "display_data"
    },
    {
     "data": {
      "application/vnd.jupyter.widget-view+json": {
       "model_id": "b3273b07451d4902a134c72ae4dc077d",
       "version_major": 2,
       "version_minor": 0
      },
      "text/plain": [
       "Export report to file:   0%|          | 0/1 [00:00<?, ?it/s]"
      ]
     },
     "metadata": {},
     "output_type": "display_data"
    }
   ],
   "source": [
    "profile = ProfileReport(train, title=\"Raw Deposit Dataset Analysis\", explorative=True)\n",
    "profile.to_file(\"deposit-report.html\")"
   ]
  },
  {
   "cell_type": "markdown",
   "id": "931b74a1-c7da-4c0d-af8a-323d6dbabc34",
   "metadata": {},
   "source": [
    "### Desbalance de clases"
   ]
  },
  {
   "cell_type": "code",
   "execution_count": 5,
   "id": "c3619f7b-ce19-43ce-a4f5-f075f3dbe7a8",
   "metadata": {},
   "outputs": [
    {
     "data": {
      "text/plain": [
       "Text(0.5, 1.0, 'Target variable distribution\\nNo: 27932 (88.26%) | Yes: 3715 (11.74%) ')"
      ]
     },
     "execution_count": 5,
     "metadata": {},
     "output_type": "execute_result"
    },
    {
     "data": {
      "image/png": "[encoded data removed]",
      "image/svg+xml": "<?xml version=\"1.0\" encoding=\"utf-8\" standalone=\"no\"?>\n<!DOCTYPE svg PUBLIC \"-//W3C//DTD SVG 1.1//EN\"\n  \"http://www.w3.org/Graphics/SVG/1.1/DTD/svg11.dtd\">\n<svg xmlns:xlink=\"http://www.w3.org/1999/xlink\" width=\"424.010625pt\" height=\"339.48675pt\" viewBox=\"0 0 424.010625 339.48675\" xmlns=\"http://www.w3.org/2000/svg\" version=\"1.1\">\n <metadata>\n  <rdf:RDF xmlns:dc=\"http://purl.org/dc/elements/1.1/\" xmlns:cc=\"http://creativecommons.org/ns#\" xmlns:rdf=\"http://www.w3.org/1999/02/22-rdf-syntax-ns#\">\n   <cc:Work>\n    <dc:type rdf:resource=\"http://purl.org/dc/dcmitype/StillImage\"/>\n    <dc:date>2023-01-12T09:31:17.845327</dc:date>\n    <dc:format>image/svg+xml</dc:format>\n    <dc:creator>\n     <cc:Agent>\n      <dc:title>Matplotlib v3.6.2, https://matplotlib.org/</dc:title>\n     </cc:Agent>\n    </dc:creator>\n   </cc:Work>\n  </rdf:RDF>\n </metadata>\n <defs>\n  <style type=\"text/css\">*{stroke-linejoin: round; stroke-linecap: butt}</style>\n </defs>\n <g id=\"figure_1\">\n  <g id=\"patch_1\">\n   <path d=\"M 0 339.48675 \nL 424.010625 339.48675 \nL 424.010625 0 \nL 0 0 \nz\n\" style=\"fill: #ffffff\"/>\n  </g>\n  <g id=\"axes_1\">\n   <g id=\"patch_2\">\n    <path d=\"M 59.690625 301.9305 \nL 416.810625 301.9305 \nL 416.810625 35.8185 \nL 59.690625 35.8185 \nz\n\" style=\"fill: #ffffff\"/>\n   </g>\n   <g id=\"patch_3\">\n    <path d=\"M 77.546625 301.9305 \nL 220.394625 301.9305 \nL 220.394625 48.4905 \nL 77.546625 48.4905 \nz\n\" clip-path=\"url(#p5205aa5ea2)\" style=\"fill: #3274a1\"/>\n   </g>\n   <g id=\"patch_4\">\n    <path d=\"M 256.106625 301.9305 \nL 398.954625 301.9305 \nL 398.954625 268.222581 \nL 256.106625 268.222581 \nz\n\" clip-path=\"url(#p5205aa5ea2)\" style=\"fill: #e1812c\"/>\n   </g>\n   <g id=\"matplotlib.axis_1\">\n    <g id=\"xtick_1\">\n     <g id=\"line2d_1\">\n      <defs>\n       <path id=\"m660812802d\" d=\"M 0 0 \nL 0 3.5 \n\" style=\"stroke: #000000; stroke-width: 0.8\"/>\n      </defs>\n      <g>\n       <use xlink:href=\"#m660812802d\" x=\"148.970625\" y=\"301.9305\" style=\"stroke: #000000; stroke-width: 0.8\"/>\n      </g>\n     </g>\n     <g id=\"text_1\">\n      <!-- no -->\n      <g transform=\"translate(142.7425 316.528937) scale(0.1 -0.1)\">\n       <defs>\n        <path id=\"DejaVuSans-6e\" d=\"M 3513 2113 \nL 3513 0 \nL 2938 0 \nL 2938 2094 \nQ 2938 2591 2744 2837 \nQ 2550 3084 2163 3084 \nQ 1697 3084 1428 2787 \nQ 1159 2491 1159 1978 \nL 1159 0 \nL 581 0 \nL 581 3500 \nL 1159 3500 \nL 1159 2956 \nQ 1366 3272 1645 3428 \nQ 1925 3584 2291 3584 \nQ 2894 3584 3203 3211 \nQ 3513 2838 3513 2113 \nz\n\" transform=\"scale(0.015625)\"/>\n        <path id=\"DejaVuSans-6f\" d=\"M 1959 3097 \nQ 1497 3097 1228 2736 \nQ 959 2375 959 1747 \nQ 959 1119 1226 758 \nQ 1494 397 1959 397 \nQ 2419 397 2687 759 \nQ 2956 1122 2956 1747 \nQ 2956 2369 2687 2733 \nQ 2419 3097 1959 3097 \nz\nM 1959 3584 \nQ 2709 3584 3137 3096 \nQ 3566 2609 3566 1747 \nQ 3566 888 3137 398 \nQ 2709 -91 1959 -91 \nQ 1206 -91 779 398 \nQ 353 888 353 1747 \nQ 353 2609 779 3096 \nQ 1206 3584 1959 3584 \nz\n\" transform=\"scale(0.015625)\"/>\n       </defs>\n       <use xlink:href=\"#DejaVuSans-6e\"/>\n       <use xlink:href=\"#DejaVuSans-6f\" x=\"63.378906\"/>\n      </g>\n     </g>\n    </g>\n    <g id=\"xtick_2\">\n     <g id=\"line2d_2\">\n      <g>\n       <use xlink:href=\"#m660812802d\" x=\"327.530625\" y=\"301.9305\" style=\"stroke: #000000; stroke-width: 0.8\"/>\n      </g>\n     </g>\n     <g id=\"text_2\">\n      <!-- yes -->\n      <g transform=\"translate(318.89 316.528937) scale(0.1 -0.1)\">\n       <defs>\n        <path id=\"DejaVuSans-79\" d=\"M 2059 -325 \nQ 1816 -950 1584 -1140 \nQ 1353 -1331 966 -1331 \nL 506 -1331 \nL 506 -850 \nL 844 -850 \nQ 1081 -850 1212 -737 \nQ 1344 -625 1503 -206 \nL 1606 56 \nL 191 3500 \nL 800 3500 \nL 1894 763 \nL 2988 3500 \nL 3597 3500 \nL 2059 -325 \nz\n\" transform=\"scale(0.015625)\"/>\n        <path id=\"DejaVuSans-65\" d=\"M 3597 1894 \nL 3597 1613 \nL 953 1613 \nQ 991 1019 1311 708 \nQ 1631 397 2203 397 \nQ 2534 397 2845 478 \nQ 3156 559 3463 722 \nL 3463 178 \nQ 3153 47 2828 -22 \nQ 2503 -91 2169 -91 \nQ 1331 -91 842 396 \nQ 353 884 353 1716 \nQ 353 2575 817 3079 \nQ 1281 3584 2069 3584 \nQ 2775 3584 3186 3129 \nQ 3597 2675 3597 1894 \nz\nM 3022 2063 \nQ 3016 2534 2758 2815 \nQ 2500 3097 2075 3097 \nQ 1594 3097 1305 2825 \nQ 1016 2553 972 2059 \nL 3022 2063 \nz\n\" transform=\"scale(0.015625)\"/>\n        <path id=\"DejaVuSans-73\" d=\"M 2834 3397 \nL 2834 2853 \nQ 2591 2978 2328 3040 \nQ 2066 3103 1784 3103 \nQ 1356 3103 1142 2972 \nQ 928 2841 928 2578 \nQ 928 2378 1081 2264 \nQ 1234 2150 1697 2047 \nL 1894 2003 \nQ 2506 1872 2764 1633 \nQ 3022 1394 3022 966 \nQ 3022 478 2636 193 \nQ 2250 -91 1575 -91 \nQ 1294 -91 989 -36 \nQ 684 19 347 128 \nL 347 722 \nQ 666 556 975 473 \nQ 1284 391 1588 391 \nQ 1994 391 2212 530 \nQ 2431 669 2431 922 \nQ 2431 1156 2273 1281 \nQ 2116 1406 1581 1522 \nL 1381 1569 \nQ 847 1681 609 1914 \nQ 372 2147 372 2553 \nQ 372 3047 722 3315 \nQ 1072 3584 1716 3584 \nQ 2034 3584 2315 3537 \nQ 2597 3491 2834 3397 \nz\n\" transform=\"scale(0.015625)\"/>\n       </defs>\n       <use xlink:href=\"#DejaVuSans-79\"/>\n       <use xlink:href=\"#DejaVuSans-65\" x=\"59.179688\"/>\n       <use xlink:href=\"#DejaVuSans-73\" x=\"120.703125\"/>\n      </g>\n     </g>\n    </g>\n    <g id=\"text_3\">\n     <!-- subscribed -->\n     <g transform=\"translate(211.079531 330.207062) scale(0.1 -0.1)\">\n      <defs>\n       <path id=\"DejaVuSans-75\" d=\"M 544 1381 \nL 544 3500 \nL 1119 3500 \nL 1119 1403 \nQ 1119 906 1312 657 \nQ 1506 409 1894 409 \nQ 2359 409 2629 706 \nQ 2900 1003 2900 1516 \nL 2900 3500 \nL 3475 3500 \nL 3475 0 \nL 2900 0 \nL 2900 538 \nQ 2691 219 2414 64 \nQ 2138 -91 1772 -91 \nQ 1169 -91 856 284 \nQ 544 659 544 1381 \nz\nM 1991 3584 \nL 1991 3584 \nz\n\" transform=\"scale(0.015625)\"/>\n       <path id=\"DejaVuSans-62\" d=\"M 3116 1747 \nQ 3116 2381 2855 2742 \nQ 2594 3103 2138 3103 \nQ 1681 3103 1420 2742 \nQ 1159 2381 1159 1747 \nQ 1159 1113 1420 752 \nQ 1681 391 2138 391 \nQ 2594 391 2855 752 \nQ 3116 1113 3116 1747 \nz\nM 1159 2969 \nQ 1341 3281 1617 3432 \nQ 1894 3584 2278 3584 \nQ 2916 3584 3314 3078 \nQ 3713 2572 3713 1747 \nQ 3713 922 3314 415 \nQ 2916 -91 2278 -91 \nQ 1894 -91 1617 61 \nQ 1341 213 1159 525 \nL 1159 0 \nL 581 0 \nL 581 4863 \nL 1159 4863 \nL 1159 2969 \nz\n\" transform=\"scale(0.015625)\"/>\n       <path id=\"DejaVuSans-63\" d=\"M 3122 3366 \nL 3122 2828 \nQ 2878 2963 2633 3030 \nQ 2388 3097 2138 3097 \nQ 1578 3097 1268 2742 \nQ 959 2388 959 1747 \nQ 959 1106 1268 751 \nQ 1578 397 2138 397 \nQ 2388 397 2633 464 \nQ 2878 531 3122 666 \nL 3122 134 \nQ 2881 22 2623 -34 \nQ 2366 -91 2075 -91 \nQ 1284 -91 818 406 \nQ 353 903 353 1747 \nQ 353 2603 823 3093 \nQ 1294 3584 2113 3584 \nQ 2378 3584 2631 3529 \nQ 2884 3475 3122 3366 \nz\n\" transform=\"scale(0.015625)\"/>\n       <path id=\"DejaVuSans-72\" d=\"M 2631 2963 \nQ 2534 3019 2420 3045 \nQ 2306 3072 2169 3072 \nQ 1681 3072 1420 2755 \nQ 1159 2438 1159 1844 \nL 1159 0 \nL 581 0 \nL 581 3500 \nL 1159 3500 \nL 1159 2956 \nQ 1341 3275 1631 3429 \nQ 1922 3584 2338 3584 \nQ 2397 3584 2469 3576 \nQ 2541 3569 2628 3553 \nL 2631 2963 \nz\n\" transform=\"scale(0.015625)\"/>\n       <path id=\"DejaVuSans-69\" d=\"M 603 3500 \nL 1178 3500 \nL 1178 0 \nL 603 0 \nL 603 3500 \nz\nM 603 4863 \nL 1178 4863 \nL 1178 4134 \nL 603 4134 \nL 603 4863 \nz\n\" transform=\"scale(0.015625)\"/>\n       <path id=\"DejaVuSans-64\" d=\"M 2906 2969 \nL 2906 4863 \nL 3481 4863 \nL 3481 0 \nL 2906 0 \nL 2906 525 \nQ 2725 213 2448 61 \nQ 2172 -91 1784 -91 \nQ 1150 -91 751 415 \nQ 353 922 353 1747 \nQ 353 2572 751 3078 \nQ 1150 3584 1784 3584 \nQ 2172 3584 2448 3432 \nQ 2725 3281 2906 2969 \nz\nM 947 1747 \nQ 947 1113 1208 752 \nQ 1469 391 1925 391 \nQ 2381 391 2643 752 \nQ 2906 1113 2906 1747 \nQ 2906 2381 2643 2742 \nQ 2381 3103 1925 3103 \nQ 1469 3103 1208 2742 \nQ 947 2381 947 1747 \nz\n\" transform=\"scale(0.015625)\"/>\n      </defs>\n      <use xlink:href=\"#DejaVuSans-73\"/>\n      <use xlink:href=\"#DejaVuSans-75\" x=\"52.099609\"/>\n      <use xlink:href=\"#DejaVuSans-62\" x=\"115.478516\"/>\n      <use xlink:href=\"#DejaVuSans-73\" x=\"178.955078\"/>\n      <use xlink:href=\"#DejaVuSans-63\" x=\"231.054688\"/>\n      <use xlink:href=\"#DejaVuSans-72\" x=\"286.035156\"/>\n      <use xlink:href=\"#DejaVuSans-69\" x=\"327.148438\"/>\n      <use xlink:href=\"#DejaVuSans-62\" x=\"354.931641\"/>\n      <use xlink:href=\"#DejaVuSans-65\" x=\"418.408203\"/>\n      <use xlink:href=\"#DejaVuSans-64\" x=\"479.931641\"/>\n     </g>\n    </g>\n   </g>\n   <g id=\"matplotlib.axis_2\">\n    <g id=\"ytick_1\">\n     <g id=\"line2d_3\">\n      <defs>\n       <path id=\"mb64b665e01\" d=\"M 0 0 \nL -3.5 0 \n\" style=\"stroke: #000000; stroke-width: 0.8\"/>\n      </defs>\n      <g>\n       <use xlink:href=\"#mb64b665e01\" x=\"59.690625\" y=\"301.9305\" style=\"stroke: #000000; stroke-width: 0.8\"/>\n      </g>\n     </g>\n     <g id=\"text_4\">\n      <!-- 0 -->\n      <g transform=\"translate(46.328125 305.729719) scale(0.1 -0.1)\">\n       <defs>\n        <path id=\"DejaVuSans-30\" d=\"M 2034 4250 \nQ 1547 4250 1301 3770 \nQ 1056 3291 1056 2328 \nQ 1056 1369 1301 889 \nQ 1547 409 2034 409 \nQ 2525 409 2770 889 \nQ 3016 1369 3016 2328 \nQ 3016 3291 2770 3770 \nQ 2525 4250 2034 4250 \nz\nM 2034 4750 \nQ 2819 4750 3233 4129 \nQ 3647 3509 3647 2328 \nQ 3647 1150 3233 529 \nQ 2819 -91 2034 -91 \nQ 1250 -91 836 529 \nQ 422 1150 422 2328 \nQ 422 3509 836 4129 \nQ 1250 4750 2034 4750 \nz\n\" transform=\"scale(0.015625)\"/>\n       </defs>\n       <use xlink:href=\"#DejaVuSans-30\"/>\n      </g>\n     </g>\n    </g>\n    <g id=\"ytick_2\">\n     <g id=\"line2d_4\">\n      <g>\n       <use xlink:href=\"#mb64b665e01\" x=\"59.690625\" y=\"256.563179\" style=\"stroke: #000000; stroke-width: 0.8\"/>\n      </g>\n     </g>\n     <g id=\"text_5\">\n      <!-- 5000 -->\n      <g transform=\"translate(27.240625 260.362398) scale(0.1 -0.1)\">\n       <defs>\n        <path id=\"DejaVuSans-35\" d=\"M 691 4666 \nL 3169 4666 \nL 3169 4134 \nL 1269 4134 \nL 1269 2991 \nQ 1406 3038 1543 3061 \nQ 1681 3084 1819 3084 \nQ 2600 3084 3056 2656 \nQ 3513 2228 3513 1497 \nQ 3513 744 3044 326 \nQ 2575 -91 1722 -91 \nQ 1428 -91 1123 -41 \nQ 819 9 494 109 \nL 494 744 \nQ 775 591 1075 516 \nQ 1375 441 1709 441 \nQ 2250 441 2565 725 \nQ 2881 1009 2881 1497 \nQ 2881 1984 2565 2268 \nQ 2250 2553 1709 2553 \nQ 1456 2553 1204 2497 \nQ 953 2441 691 2322 \nL 691 4666 \nz\n\" transform=\"scale(0.015625)\"/>\n       </defs>\n       <use xlink:href=\"#DejaVuSans-35\"/>\n       <use xlink:href=\"#DejaVuSans-30\" x=\"63.623047\"/>\n       <use xlink:href=\"#DejaVuSans-30\" x=\"127.246094\"/>\n       <use xlink:href=\"#DejaVuSans-30\" x=\"190.869141\"/>\n      </g>\n     </g>\n    </g>\n    <g id=\"ytick_3\">\n     <g id=\"line2d_5\">\n      <g>\n       <use xlink:href=\"#mb64b665e01\" x=\"59.690625\" y=\"211.195859\" style=\"stroke: #000000; stroke-width: 0.8\"/>\n      </g>\n     </g>\n     <g id=\"text_6\">\n      <!-- 10000 -->\n      <g transform=\"translate(20.878125 214.995077) scale(0.1 -0.1)\">\n       <defs>\n        <path id=\"DejaVuSans-31\" d=\"M 794 531 \nL 1825 531 \nL 1825 4091 \nL 703 3866 \nL 703 4441 \nL 1819 4666 \nL 2450 4666 \nL 2450 531 \nL 3481 531 \nL 3481 0 \nL 794 0 \nL 794 531 \nz\n\" transform=\"scale(0.015625)\"/>\n       </defs>\n       <use xlink:href=\"#DejaVuSans-31\"/>\n       <use xlink:href=\"#DejaVuSans-30\" x=\"63.623047\"/>\n       <use xlink:href=\"#DejaVuSans-30\" x=\"127.246094\"/>\n       <use xlink:href=\"#DejaVuSans-30\" x=\"190.869141\"/>\n       <use xlink:href=\"#DejaVuSans-30\" x=\"254.492188\"/>\n      </g>\n     </g>\n    </g>\n    <g id=\"ytick_4\">\n     <g id=\"line2d_6\">\n      <g>\n       <use xlink:href=\"#mb64b665e01\" x=\"59.690625\" y=\"165.828538\" style=\"stroke: #000000; stroke-width: 0.8\"/>\n      </g>\n     </g>\n     <g id=\"text_7\">\n      <!-- 15000 -->\n      <g transform=\"translate(20.878125 169.627757) scale(0.1 -0.1)\">\n       <use xlink:href=\"#DejaVuSans-31\"/>\n       <use xlink:href=\"#DejaVuSans-35\" x=\"63.623047\"/>\n       <use xlink:href=\"#DejaVuSans-30\" x=\"127.246094\"/>\n       <use xlink:href=\"#DejaVuSans-30\" x=\"190.869141\"/>\n       <use xlink:href=\"#DejaVuSans-30\" x=\"254.492188\"/>\n      </g>\n     </g>\n    </g>\n    <g id=\"ytick_5\">\n     <g id=\"line2d_7\">\n      <g>\n       <use xlink:href=\"#mb64b665e01\" x=\"59.690625\" y=\"120.461217\" style=\"stroke: #000000; stroke-width: 0.8\"/>\n      </g>\n     </g>\n     <g id=\"text_8\">\n      <!-- 20000 -->\n      <g transform=\"translate(20.878125 124.260436) scale(0.1 -0.1)\">\n       <defs>\n        <path id=\"DejaVuSans-32\" d=\"M 1228 531 \nL 3431 531 \nL 3431 0 \nL 469 0 \nL 469 531 \nQ 828 903 1448 1529 \nQ 2069 2156 2228 2338 \nQ 2531 2678 2651 2914 \nQ 2772 3150 2772 3378 \nQ 2772 3750 2511 3984 \nQ 2250 4219 1831 4219 \nQ 1534 4219 1204 4116 \nQ 875 4013 500 3803 \nL 500 4441 \nQ 881 4594 1212 4672 \nQ 1544 4750 1819 4750 \nQ 2544 4750 2975 4387 \nQ 3406 4025 3406 3419 \nQ 3406 3131 3298 2873 \nQ 3191 2616 2906 2266 \nQ 2828 2175 2409 1742 \nQ 1991 1309 1228 531 \nz\n\" transform=\"scale(0.015625)\"/>\n       </defs>\n       <use xlink:href=\"#DejaVuSans-32\"/>\n       <use xlink:href=\"#DejaVuSans-30\" x=\"63.623047\"/>\n       <use xlink:href=\"#DejaVuSans-30\" x=\"127.246094\"/>\n       <use xlink:href=\"#DejaVuSans-30\" x=\"190.869141\"/>\n       <use xlink:href=\"#DejaVuSans-30\" x=\"254.492188\"/>\n      </g>\n     </g>\n    </g>\n    <g id=\"ytick_6\">\n     <g id=\"line2d_8\">\n      <g>\n       <use xlink:href=\"#mb64b665e01\" x=\"59.690625\" y=\"75.093897\" style=\"stroke: #000000; stroke-width: 0.8\"/>\n      </g>\n     </g>\n     <g id=\"text_9\">\n      <!-- 25000 -->\n      <g transform=\"translate(20.878125 78.893116) scale(0.1 -0.1)\">\n       <use xlink:href=\"#DejaVuSans-32\"/>\n       <use xlink:href=\"#DejaVuSans-35\" x=\"63.623047\"/>\n       <use xlink:href=\"#DejaVuSans-30\" x=\"127.246094\"/>\n       <use xlink:href=\"#DejaVuSans-30\" x=\"190.869141\"/>\n       <use xlink:href=\"#DejaVuSans-30\" x=\"254.492188\"/>\n      </g>\n     </g>\n    </g>\n    <g id=\"text_10\">\n     <!-- count -->\n     <g transform=\"translate(14.798438 182.98075) rotate(-90) scale(0.1 -0.1)\">\n      <defs>\n       <path id=\"DejaVuSans-74\" d=\"M 1172 4494 \nL 1172 3500 \nL 2356 3500 \nL 2356 3053 \nL 1172 3053 \nL 1172 1153 \nQ 1172 725 1289 603 \nQ 1406 481 1766 481 \nL 2356 481 \nL 2356 0 \nL 1766 0 \nQ 1100 0 847 248 \nQ 594 497 594 1153 \nL 594 3053 \nL 172 3053 \nL 172 3500 \nL 594 3500 \nL 594 4494 \nL 1172 4494 \nz\n\" transform=\"scale(0.015625)\"/>\n      </defs>\n      <use xlink:href=\"#DejaVuSans-63\"/>\n      <use xlink:href=\"#DejaVuSans-6f\" x=\"54.980469\"/>\n      <use xlink:href=\"#DejaVuSans-75\" x=\"116.162109\"/>\n      <use xlink:href=\"#DejaVuSans-6e\" x=\"179.541016\"/>\n      <use xlink:href=\"#DejaVuSans-74\" x=\"242.919922\"/>\n     </g>\n    </g>\n   </g>\n   <g id=\"patch_5\">\n    <path d=\"M 59.690625 301.9305 \nL 59.690625 35.8185 \n\" style=\"fill: none; stroke: #000000; stroke-width: 0.8; stroke-linejoin: miter; stroke-linecap: square\"/>\n   </g>\n   <g id=\"patch_6\">\n    <path d=\"M 416.810625 301.9305 \nL 416.810625 35.8185 \n\" style=\"fill: none; stroke: #000000; stroke-width: 0.8; stroke-linejoin: miter; stroke-linecap: square\"/>\n   </g>\n   <g id=\"patch_7\">\n    <path d=\"M 59.690625 301.9305 \nL 416.810625 301.9305 \n\" style=\"fill: none; stroke: #000000; stroke-width: 0.8; stroke-linejoin: miter; stroke-linecap: square\"/>\n   </g>\n   <g id=\"patch_8\">\n    <path d=\"M 59.690625 35.8185 \nL 416.810625 35.8185 \n\" style=\"fill: none; stroke: #000000; stroke-width: 0.8; stroke-linejoin: miter; stroke-linecap: square\"/>\n   </g>\n   <g id=\"text_11\">\n    <!-- Target variable distribution -->\n    <g transform=\"translate(157.472813 16.318125) scale(0.12 -0.12)\">\n     <defs>\n      <path id=\"DejaVuSans-54\" d=\"M -19 4666 \nL 3928 4666 \nL 3928 4134 \nL 2272 4134 \nL 2272 0 \nL 1638 0 \nL 1638 4134 \nL -19 4134 \nL -19 4666 \nz\n\" transform=\"scale(0.015625)\"/>\n      <path id=\"DejaVuSans-61\" d=\"M 2194 1759 \nQ 1497 1759 1228 1600 \nQ 959 1441 959 1056 \nQ 959 750 1161 570 \nQ 1363 391 1709 391 \nQ 2188 391 2477 730 \nQ 2766 1069 2766 1631 \nL 2766 1759 \nL 2194 1759 \nz\nM 3341 1997 \nL 3341 0 \nL 2766 0 \nL 2766 531 \nQ 2569 213 2275 61 \nQ 1981 -91 1556 -91 \nQ 1019 -91 701 211 \nQ 384 513 384 1019 \nQ 384 1609 779 1909 \nQ 1175 2209 1959 2209 \nL 2766 2209 \nL 2766 2266 \nQ 2766 2663 2505 2880 \nQ 2244 3097 1772 3097 \nQ 1472 3097 1187 3025 \nQ 903 2953 641 2809 \nL 641 3341 \nQ 956 3463 1253 3523 \nQ 1550 3584 1831 3584 \nQ 2591 3584 2966 3190 \nQ 3341 2797 3341 1997 \nz\n\" transform=\"scale(0.015625)\"/>\n      <path id=\"DejaVuSans-67\" d=\"M 2906 1791 \nQ 2906 2416 2648 2759 \nQ 2391 3103 1925 3103 \nQ 1463 3103 1205 2759 \nQ 947 2416 947 1791 \nQ 947 1169 1205 825 \nQ 1463 481 1925 481 \nQ 2391 481 2648 825 \nQ 2906 1169 2906 1791 \nz\nM 3481 434 \nQ 3481 -459 3084 -895 \nQ 2688 -1331 1869 -1331 \nQ 1566 -1331 1297 -1286 \nQ 1028 -1241 775 -1147 \nL 775 -588 \nQ 1028 -725 1275 -790 \nQ 1522 -856 1778 -856 \nQ 2344 -856 2625 -561 \nQ 2906 -266 2906 331 \nL 2906 616 \nQ 2728 306 2450 153 \nQ 2172 0 1784 0 \nQ 1141 0 747 490 \nQ 353 981 353 1791 \nQ 353 2603 747 3093 \nQ 1141 3584 1784 3584 \nQ 2172 3584 2450 3431 \nQ 2728 3278 2906 2969 \nL 2906 3500 \nL 3481 3500 \nL 3481 434 \nz\n\" transform=\"scale(0.015625)\"/>\n      <path id=\"DejaVuSans-20\" transform=\"scale(0.015625)\"/>\n      <path id=\"DejaVuSans-76\" d=\"M 191 3500 \nL 800 3500 \nL 1894 563 \nL 2988 3500 \nL 3597 3500 \nL 2284 0 \nL 1503 0 \nL 191 3500 \nz\n\" transform=\"scale(0.015625)\"/>\n      <path id=\"DejaVuSans-6c\" d=\"M 603 4863 \nL 1178 4863 \nL 1178 0 \nL 603 0 \nL 603 4863 \nz\n\" transform=\"scale(0.015625)\"/>\n     </defs>\n     <use xlink:href=\"#DejaVuSans-54\"/>\n     <use xlink:href=\"#DejaVuSans-61\" x=\"44.583984\"/>\n     <use xlink:href=\"#DejaVuSans-72\" x=\"105.863281\"/>\n     <use xlink:href=\"#DejaVuSans-67\" x=\"145.226562\"/>\n     <use xlink:href=\"#DejaVuSans-65\" x=\"208.703125\"/>\n     <use xlink:href=\"#DejaVuSans-74\" x=\"270.226562\"/>\n     <use xlink:href=\"#DejaVuSans-20\" x=\"309.435547\"/>\n     <use xlink:href=\"#DejaVuSans-76\" x=\"341.222656\"/>\n     <use xlink:href=\"#DejaVuSans-61\" x=\"400.402344\"/>\n     <use xlink:href=\"#DejaVuSans-72\" x=\"461.681641\"/>\n     <use xlink:href=\"#DejaVuSans-69\" x=\"502.794922\"/>\n     <use xlink:href=\"#DejaVuSans-61\" x=\"530.578125\"/>\n     <use xlink:href=\"#DejaVuSans-62\" x=\"591.857422\"/>\n     <use xlink:href=\"#DejaVuSans-6c\" x=\"655.333984\"/>\n     <use xlink:href=\"#DejaVuSans-65\" x=\"683.117188\"/>\n     <use xlink:href=\"#DejaVuSans-20\" x=\"744.640625\"/>\n     <use xlink:href=\"#DejaVuSans-64\" x=\"776.427734\"/>\n     <use xlink:href=\"#DejaVuSans-69\" x=\"839.904297\"/>\n     <use xlink:href=\"#DejaVuSans-73\" x=\"867.6875\"/>\n     <use xlink:href=\"#DejaVuSans-74\" x=\"919.787109\"/>\n     <use xlink:href=\"#DejaVuSans-72\" x=\"958.996094\"/>\n     <use xlink:href=\"#DejaVuSans-69\" x=\"1000.109375\"/>\n     <use xlink:href=\"#DejaVuSans-62\" x=\"1027.892578\"/>\n     <use xlink:href=\"#DejaVuSans-75\" x=\"1091.369141\"/>\n     <use xlink:href=\"#DejaVuSans-74\" x=\"1154.748047\"/>\n     <use xlink:href=\"#DejaVuSans-69\" x=\"1193.957031\"/>\n     <use xlink:href=\"#DejaVuSans-6f\" x=\"1221.740234\"/>\n     <use xlink:href=\"#DejaVuSans-6e\" x=\"1282.921875\"/>\n    </g>\n    <!-- No: 27932 (88.26%) | Yes: 3715 (11.74%)  -->\n    <g transform=\"translate(111.514688 29.8185) scale(0.12 -0.12)\">\n     <defs>\n      <path id=\"DejaVuSans-4e\" d=\"M 628 4666 \nL 1478 4666 \nL 3547 763 \nL 3547 4666 \nL 4159 4666 \nL 4159 0 \nL 3309 0 \nL 1241 3903 \nL 1241 0 \nL 628 0 \nL 628 4666 \nz\n\" transform=\"scale(0.015625)\"/>\n      <path id=\"DejaVuSans-3a\" d=\"M 750 794 \nL 1409 794 \nL 1409 0 \nL 750 0 \nL 750 794 \nz\nM 750 3309 \nL 1409 3309 \nL 1409 2516 \nL 750 2516 \nL 750 3309 \nz\n\" transform=\"scale(0.015625)\"/>\n      <path id=\"DejaVuSans-37\" d=\"M 525 4666 \nL 3525 4666 \nL 3525 4397 \nL 1831 0 \nL 1172 0 \nL 2766 4134 \nL 525 4134 \nL 525 4666 \nz\n\" transform=\"scale(0.015625)\"/>\n      <path id=\"DejaVuSans-39\" d=\"M 703 97 \nL 703 672 \nQ 941 559 1184 500 \nQ 1428 441 1663 441 \nQ 2288 441 2617 861 \nQ 2947 1281 2994 2138 \nQ 2813 1869 2534 1725 \nQ 2256 1581 1919 1581 \nQ 1219 1581 811 2004 \nQ 403 2428 403 3163 \nQ 403 3881 828 4315 \nQ 1253 4750 1959 4750 \nQ 2769 4750 3195 4129 \nQ 3622 3509 3622 2328 \nQ 3622 1225 3098 567 \nQ 2575 -91 1691 -91 \nQ 1453 -91 1209 -44 \nQ 966 3 703 97 \nz\nM 1959 2075 \nQ 2384 2075 2632 2365 \nQ 2881 2656 2881 3163 \nQ 2881 3666 2632 3958 \nQ 2384 4250 1959 4250 \nQ 1534 4250 1286 3958 \nQ 1038 3666 1038 3163 \nQ 1038 2656 1286 2365 \nQ 1534 2075 1959 2075 \nz\n\" transform=\"scale(0.015625)\"/>\n      <path id=\"DejaVuSans-33\" d=\"M 2597 2516 \nQ 3050 2419 3304 2112 \nQ 3559 1806 3559 1356 \nQ 3559 666 3084 287 \nQ 2609 -91 1734 -91 \nQ 1441 -91 1130 -33 \nQ 819 25 488 141 \nL 488 750 \nQ 750 597 1062 519 \nQ 1375 441 1716 441 \nQ 2309 441 2620 675 \nQ 2931 909 2931 1356 \nQ 2931 1769 2642 2001 \nQ 2353 2234 1838 2234 \nL 1294 2234 \nL 1294 2753 \nL 1863 2753 \nQ 2328 2753 2575 2939 \nQ 2822 3125 2822 3475 \nQ 2822 3834 2567 4026 \nQ 2313 4219 1838 4219 \nQ 1578 4219 1281 4162 \nQ 984 4106 628 3988 \nL 628 4550 \nQ 988 4650 1302 4700 \nQ 1616 4750 1894 4750 \nQ 2613 4750 3031 4423 \nQ 3450 4097 3450 3541 \nQ 3450 3153 3228 2886 \nQ 3006 2619 2597 2516 \nz\n\" transform=\"scale(0.015625)\"/>\n      <path id=\"DejaVuSans-28\" d=\"M 1984 4856 \nQ 1566 4138 1362 3434 \nQ 1159 2731 1159 2009 \nQ 1159 1288 1364 580 \nQ 1569 -128 1984 -844 \nL 1484 -844 \nQ 1016 -109 783 600 \nQ 550 1309 550 2009 \nQ 550 2706 781 3412 \nQ 1013 4119 1484 4856 \nL 1984 4856 \nz\n\" transform=\"scale(0.015625)\"/>\n      <path id=\"DejaVuSans-38\" d=\"M 2034 2216 \nQ 1584 2216 1326 1975 \nQ 1069 1734 1069 1313 \nQ 1069 891 1326 650 \nQ 1584 409 2034 409 \nQ 2484 409 2743 651 \nQ 3003 894 3003 1313 \nQ 3003 1734 2745 1975 \nQ 2488 2216 2034 2216 \nz\nM 1403 2484 \nQ 997 2584 770 2862 \nQ 544 3141 544 3541 \nQ 544 4100 942 4425 \nQ 1341 4750 2034 4750 \nQ 2731 4750 3128 4425 \nQ 3525 4100 3525 3541 \nQ 3525 3141 3298 2862 \nQ 3072 2584 2669 2484 \nQ 3125 2378 3379 2068 \nQ 3634 1759 3634 1313 \nQ 3634 634 3220 271 \nQ 2806 -91 2034 -91 \nQ 1263 -91 848 271 \nQ 434 634 434 1313 \nQ 434 1759 690 2068 \nQ 947 2378 1403 2484 \nz\nM 1172 3481 \nQ 1172 3119 1398 2916 \nQ 1625 2713 2034 2713 \nQ 2441 2713 2670 2916 \nQ 2900 3119 2900 3481 \nQ 2900 3844 2670 4047 \nQ 2441 4250 2034 4250 \nQ 1625 4250 1398 4047 \nQ 1172 3844 1172 3481 \nz\n\" transform=\"scale(0.015625)\"/>\n      <path id=\"DejaVuSans-2e\" d=\"M 684 794 \nL 1344 794 \nL 1344 0 \nL 684 0 \nL 684 794 \nz\n\" transform=\"scale(0.015625)\"/>\n      <path id=\"DejaVuSans-36\" d=\"M 2113 2584 \nQ 1688 2584 1439 2293 \nQ 1191 2003 1191 1497 \nQ 1191 994 1439 701 \nQ 1688 409 2113 409 \nQ 2538 409 2786 701 \nQ 3034 994 3034 1497 \nQ 3034 2003 2786 2293 \nQ 2538 2584 2113 2584 \nz\nM 3366 4563 \nL 3366 3988 \nQ 3128 4100 2886 4159 \nQ 2644 4219 2406 4219 \nQ 1781 4219 1451 3797 \nQ 1122 3375 1075 2522 \nQ 1259 2794 1537 2939 \nQ 1816 3084 2150 3084 \nQ 2853 3084 3261 2657 \nQ 3669 2231 3669 1497 \nQ 3669 778 3244 343 \nQ 2819 -91 2113 -91 \nQ 1303 -91 875 529 \nQ 447 1150 447 2328 \nQ 447 3434 972 4092 \nQ 1497 4750 2381 4750 \nQ 2619 4750 2861 4703 \nQ 3103 4656 3366 4563 \nz\n\" transform=\"scale(0.015625)\"/>\n      <path id=\"DejaVuSans-25\" d=\"M 4653 2053 \nQ 4381 2053 4226 1822 \nQ 4072 1591 4072 1178 \nQ 4072 772 4226 539 \nQ 4381 306 4653 306 \nQ 4919 306 5073 539 \nQ 5228 772 5228 1178 \nQ 5228 1588 5073 1820 \nQ 4919 2053 4653 2053 \nz\nM 4653 2450 \nQ 5147 2450 5437 2106 \nQ 5728 1763 5728 1178 \nQ 5728 594 5436 251 \nQ 5144 -91 4653 -91 \nQ 4153 -91 3862 251 \nQ 3572 594 3572 1178 \nQ 3572 1766 3864 2108 \nQ 4156 2450 4653 2450 \nz\nM 1428 4353 \nQ 1159 4353 1004 4120 \nQ 850 3888 850 3481 \nQ 850 3069 1003 2837 \nQ 1156 2606 1428 2606 \nQ 1700 2606 1854 2837 \nQ 2009 3069 2009 3481 \nQ 2009 3884 1853 4118 \nQ 1697 4353 1428 4353 \nz\nM 4250 4750 \nL 4750 4750 \nL 1831 -91 \nL 1331 -91 \nL 4250 4750 \nz\nM 1428 4750 \nQ 1922 4750 2215 4408 \nQ 2509 4066 2509 3481 \nQ 2509 2891 2217 2550 \nQ 1925 2209 1428 2209 \nQ 931 2209 642 2551 \nQ 353 2894 353 3481 \nQ 353 4063 643 4406 \nQ 934 4750 1428 4750 \nz\n\" transform=\"scale(0.015625)\"/>\n      <path id=\"DejaVuSans-29\" d=\"M 513 4856 \nL 1013 4856 \nQ 1481 4119 1714 3412 \nQ 1947 2706 1947 2009 \nQ 1947 1309 1714 600 \nQ 1481 -109 1013 -844 \nL 513 -844 \nQ 928 -128 1133 580 \nQ 1338 1288 1338 2009 \nQ 1338 2731 1133 3434 \nQ 928 4138 513 4856 \nz\n\" transform=\"scale(0.015625)\"/>\n      <path id=\"DejaVuSans-7c\" d=\"M 1344 4891 \nL 1344 -1509 \nL 813 -1509 \nL 813 4891 \nL 1344 4891 \nz\n\" transform=\"scale(0.015625)\"/>\n      <path id=\"DejaVuSans-59\" d=\"M -13 4666 \nL 666 4666 \nL 1959 2747 \nL 3244 4666 \nL 3922 4666 \nL 2272 2222 \nL 2272 0 \nL 1638 0 \nL 1638 2222 \nL -13 4666 \nz\n\" transform=\"scale(0.015625)\"/>\n      <path id=\"DejaVuSans-34\" d=\"M 2419 4116 \nL 825 1625 \nL 2419 1625 \nL 2419 4116 \nz\nM 2253 4666 \nL 3047 4666 \nL 3047 1625 \nL 3713 1625 \nL 3713 1100 \nL 3047 1100 \nL 3047 0 \nL 2419 0 \nL 2419 1100 \nL 313 1100 \nL 313 1709 \nL 2253 4666 \nz\n\" transform=\"scale(0.015625)\"/>\n     </defs>\n     <use xlink:href=\"#DejaVuSans-4e\"/>\n     <use xlink:href=\"#DejaVuSans-6f\" x=\"74.804688\"/>\n     <use xlink:href=\"#DejaVuSans-3a\" x=\"135.986328\"/>\n     <use xlink:href=\"#DejaVuSans-20\" x=\"169.677734\"/>\n     <use xlink:href=\"#DejaVuSans-32\" x=\"201.464844\"/>\n     <use xlink:href=\"#DejaVuSans-37\" x=\"265.087891\"/>\n     <use xlink:href=\"#DejaVuSans-39\" x=\"328.710938\"/>\n     <use xlink:href=\"#DejaVuSans-33\" x=\"392.333984\"/>\n     <use xlink:href=\"#DejaVuSans-32\" x=\"455.957031\"/>\n     <use xlink:href=\"#DejaVuSans-20\" x=\"519.580078\"/>\n     <use xlink:href=\"#DejaVuSans-28\" x=\"551.367188\"/>\n     <use xlink:href=\"#DejaVuSans-38\" x=\"590.380859\"/>\n     <use xlink:href=\"#DejaVuSans-38\" x=\"654.003906\"/>\n     <use xlink:href=\"#DejaVuSans-2e\" x=\"717.626953\"/>\n     <use xlink:href=\"#DejaVuSans-32\" x=\"749.414062\"/>\n     <use xlink:href=\"#DejaVuSans-36\" x=\"813.037109\"/>\n     <use xlink:href=\"#DejaVuSans-25\" x=\"876.660156\"/>\n     <use xlink:href=\"#DejaVuSans-29\" x=\"971.679688\"/>\n     <use xlink:href=\"#DejaVuSans-20\" x=\"1010.693359\"/>\n     <use xlink:href=\"#DejaVuSans-7c\" x=\"1042.480469\"/>\n     <use xlink:href=\"#DejaVuSans-20\" x=\"1076.171875\"/>\n     <use xlink:href=\"#DejaVuSans-59\" x=\"1107.958984\"/>\n     <use xlink:href=\"#DejaVuSans-65\" x=\"1155.792969\"/>\n     <use xlink:href=\"#DejaVuSans-73\" x=\"1217.316406\"/>\n     <use xlink:href=\"#DejaVuSans-3a\" x=\"1269.416016\"/>\n     <use xlink:href=\"#DejaVuSans-20\" x=\"1303.107422\"/>\n     <use xlink:href=\"#DejaVuSans-33\" x=\"1334.894531\"/>\n     <use xlink:href=\"#DejaVuSans-37\" x=\"1398.517578\"/>\n     <use xlink:href=\"#DejaVuSans-31\" x=\"1462.140625\"/>\n     <use xlink:href=\"#DejaVuSans-35\" x=\"1525.763672\"/>\n     <use xlink:href=\"#DejaVuSans-20\" x=\"1589.386719\"/>\n     <use xlink:href=\"#DejaVuSans-28\" x=\"1621.173828\"/>\n     <use xlink:href=\"#DejaVuSans-31\" x=\"1660.1875\"/>\n     <use xlink:href=\"#DejaVuSans-31\" x=\"1723.810547\"/>\n     <use xlink:href=\"#DejaVuSans-2e\" x=\"1787.433594\"/>\n     <use xlink:href=\"#DejaVuSans-37\" x=\"1819.220703\"/>\n     <use xlink:href=\"#DejaVuSans-34\" x=\"1882.84375\"/>\n     <use xlink:href=\"#DejaVuSans-25\" x=\"1946.466797\"/>\n     <use xlink:href=\"#DejaVuSans-29\" x=\"2041.486328\"/>\n     <use xlink:href=\"#DejaVuSans-20\" x=\"2080.5\"/>\n    </g>\n   </g>\n  </g>\n </g>\n <defs>\n  <clipPath id=\"p5205aa5ea2\">\n   <rect x=\"59.690625\" y=\"35.8185\" width=\"357.12\" height=\"266.112\"/>\n  </clipPath>\n </defs>\n</svg>\n",
      "text/plain": [
       "<Figure size 640x480 with 1 Axes>"
      ]
     },
     "metadata": {},
     "output_type": "display_data"
    }
   ],
   "source": [
    "subscribed_proportion = (train['subscribed'].value_counts()).to_dict()\n",
    "ax = sns.countplot(x=train[\"subscribed\"])\n",
    "title = (\"Target variable distribution\\n\"\n",
    "    f\"No: {subscribed_proportion['no']} ({(subscribed_proportion['no']/len(train)):0.2%}) |\"\n",
    "    f\" Yes: {subscribed_proportion['yes']} ({(subscribed_proportion['yes']/len(train)):0.2%}) \" )\n",
    "ax.set_title(title)"
   ]
  },
  {
   "cell_type": "markdown",
   "id": "de48f69c-a25f-4c8e-8df2-7dfab3bcf485",
   "metadata": {},
   "source": [
    "### Relación entre columnas"
   ]
  },
  {
   "cell_type": "code",
   "execution_count": null,
   "id": "67ae7ed4-61c3-4735-99c8-763ac05f95c9",
   "metadata": {},
   "outputs": [],
   "source": [
    "import matplotlib.pyplot as plt\n",
    "\n",
    "fig, axs = plt.subplots(1,3, figsize=(10, 2))\n",
    "\n",
    "sns.countplot(x='subscribed', hue='housing', data=train, ax=axs[0])\n",
    "sns.countplot(x='subscribed', hue='loan', data=train, ax=axs[1])\n",
    "sns.countplot(x='subscribed', hue='default', data=train, ax=axs[2])"
   ]
  },
  {
   "cell_type": "markdown",
   "id": "7631b234-179b-4ef1-82b4-264bee3543f6",
   "metadata": {},
   "source": [
    "## Elimina la columna de ID\n",
    "\n",
    "El ID no contiene ninguna información que nos pueda ayudar a encontrar los mejores resultados puesto que es único para cada cliente."
   ]
  },
  {
   "cell_type": "code",
   "execution_count": null,
   "id": "0d71b5a7-7f7e-4eb9-bc37-63e47003cd11",
   "metadata": {},
   "outputs": [],
   "source": [
    "train.drop(['ID'], axis='columns', inplace=True)"
   ]
  },
  {
   "cell_type": "markdown",
   "id": "daa52ba4-7663-4c72-9c38-5482e7e5b692",
   "metadata": {
    "tags": []
   },
   "source": [
    "## *One-hot encode* el estatus marital"
   ]
  },
  {
   "cell_type": "code",
   "execution_count": null,
   "id": "085037ef-2362-462a-b235-964cdce61b15",
   "metadata": {},
   "outputs": [],
   "source": [
    "from sklearn.preprocessing import OneHotEncoder\n",
    "marital_encoder = OneHotEncoder()\n",
    "\n",
    "marital_encoder.fit(train[['marital']])\n",
    "encoded_marital = marital_encoder.transform(train[['marital']])"
   ]
  },
  {
   "cell_type": "code",
   "execution_count": null,
   "id": "7faa3d37-0f24-4202-a7f2-fadfd1e49274",
   "metadata": {},
   "outputs": [],
   "source": [
    "encoded_marital = pd.DataFrame(encoded_marital.toarray(), columns=marital_encoder.categories_)\n",
    "encoded_marital['original_value'] = train['marital']\n",
    "encoded_marital"
   ]
  },
  {
   "cell_type": "markdown",
   "id": "5f1dbbef-bc08-4ff4-a6d7-16875520deb3",
   "metadata": {
    "tags": []
   },
   "source": [
    "## *Binnea* y codifica la variable edad"
   ]
  },
  {
   "cell_type": "code",
   "execution_count": null,
   "id": "5e11eb40-ea8e-4764-b9d9-970135a0f74b",
   "metadata": {},
   "outputs": [],
   "source": [
    "from custom_transformers import CutTransformer"
   ]
  },
  {
   "cell_type": "code",
   "execution_count": null,
   "id": "30081141-ed34-44b7-87c1-347f4e748cd9",
   "metadata": {},
   "outputs": [],
   "source": [
    "age_bin = CutTransformer(bins = [0, 20, 30, 40, 50, 60, 1000], as_str=True)"
   ]
  },
  {
   "cell_type": "code",
   "execution_count": null,
   "id": "2a8b6059-d475-4fff-b550-1785e3e00be0",
   "metadata": {},
   "outputs": [],
   "source": [
    "age_frame = train[['age']].copy()\n",
    "age_bin.fit(age_frame[['age']])\n",
    "\n",
    "age_encoded = age_bin.fit_transform(age_frame[['age']])\n",
    "age_frame['age_encoded'] = age_encoded"
   ]
  },
  {
   "cell_type": "code",
   "execution_count": null,
   "id": "1e14ce1c-fb9b-4d58-93af-bd503dbc1a7c",
   "metadata": {},
   "outputs": [],
   "source": [
    "age_frame"
   ]
  },
  {
   "cell_type": "code",
   "execution_count": null,
   "id": "9d237b3b-68d1-43da-8be4-ad3df4eaa19f",
   "metadata": {},
   "outputs": [],
   "source": [
    "age_one_hot_encoder = OneHotEncoder()"
   ]
  },
  {
   "cell_type": "code",
   "execution_count": null,
   "id": "b53d2722-6fab-454d-aaaa-dbb369539683",
   "metadata": {},
   "outputs": [],
   "source": [
    "age_one_hot_encoder.fit(age_frame[['age_encoded']])"
   ]
  },
  {
   "cell_type": "code",
   "execution_count": null,
   "id": "18dde412-4a27-489e-a7f4-89e204aa7cf8",
   "metadata": {},
   "outputs": [],
   "source": [
    "one_hot_encoded_ages = pd.DataFrame(\n",
    "    age_one_hot_encoder.transform(age_frame[['age_encoded']]).toarray(),\n",
    "    columns=age_one_hot_encoder.categories_\n",
    ")"
   ]
  },
  {
   "cell_type": "code",
   "execution_count": null,
   "id": "52266ecc-253f-4cd1-8647-ef3a29dcae79",
   "metadata": {},
   "outputs": [],
   "source": [
    "pd.merge(age_frame, one_hot_encoded_ages, left_index=True, right_index=True)"
   ]
  },
  {
   "cell_type": "markdown",
   "id": "4d6d668d-1843-4420-86b1-03f8c245c508",
   "metadata": {},
   "source": [
    "## Escala los datos numéricos"
   ]
  },
  {
   "cell_type": "code",
   "execution_count": null,
   "id": "4bdfa610-42b2-4778-8472-30f0a79ae68c",
   "metadata": {},
   "outputs": [],
   "source": [
    "from sklearn.preprocessing import StandardScaler"
   ]
  },
  {
   "cell_type": "code",
   "execution_count": null,
   "id": "fea31cff-211b-4132-8662-28ae0328c2e7",
   "metadata": {},
   "outputs": [],
   "source": [
    "balance_scaler = StandardScaler()"
   ]
  },
  {
   "cell_type": "code",
   "execution_count": null,
   "id": "ce7e0182-4e50-4d7a-bf13-5e3b2dd6108d",
   "metadata": {},
   "outputs": [],
   "source": [
    "balance_scaled = train[['balance']].copy()"
   ]
  },
  {
   "cell_type": "code",
   "execution_count": null,
   "id": "12672372-318c-4d8b-98ab-24911f903836",
   "metadata": {},
   "outputs": [],
   "source": [
    "balance_scaled['balance_scaled'] = balance_scaler.fit_transform(balance_scaled[['balance']])"
   ]
  },
  {
   "cell_type": "code",
   "execution_count": null,
   "id": "69d12e9f-2c86-4f4f-9461-5d020db4e223",
   "metadata": {},
   "outputs": [],
   "source": [
    "balance_scaled"
   ]
  },
  {
   "cell_type": "markdown",
   "id": "eae0f823-40da-4c62-9d7d-295db3fe57be",
   "metadata": {},
   "source": [
    "## Convierte *\"yes\"* y *\"no\"* a enteros"
   ]
  },
  {
   "cell_type": "code",
   "execution_count": null,
   "id": "e55947b8-48cd-4b37-9c98-b0a62bfaa9f1",
   "metadata": {},
   "outputs": [],
   "source": [
    "from custom_transformers import YesNoTransformer\n",
    "\n",
    "yes_no_transformer = YesNoTransformer()"
   ]
  },
  {
   "cell_type": "code",
   "execution_count": null,
   "id": "9b297aa6-c28c-45d6-ae81-7b8379ac80df",
   "metadata": {},
   "outputs": [],
   "source": [
    "housing_loan_frame = train[['housing', 'loan']].copy()"
   ]
  },
  {
   "cell_type": "code",
   "execution_count": null,
   "id": "5c8b1c35-b468-478b-aa79-bbc4e0299e06",
   "metadata": {},
   "outputs": [],
   "source": [
    "housing_loan_frame[['housing_mapped', 'loan_mapped']] = yes_no_transformer.fit_transform(housing_loan_frame)"
   ]
  },
  {
   "cell_type": "code",
   "execution_count": null,
   "id": "9f217534-e598-413d-8684-ace4c6ec806a",
   "metadata": {},
   "outputs": [],
   "source": [
    "housing_loan_frame"
   ]
  },
  {
   "cell_type": "markdown",
   "id": "e5767393-f128-4d5f-811f-3a4aed6c3f1a",
   "metadata": {},
   "source": [
    "## Empaca todos los artefactos en un pipeline\n",
    "\n",
    "La gestión de los artefactos puede volverse un problema cuando estamos lidiando con múltiples transformadores y estimadores. En nuestro caso tenemos *One-Hot encoders*, un *Cut transformer*, escalador *estandar*...\n",
    "\n",
    "Una forma de no tener que preocuparnos por elementos individuales es agruparlos todos en un pipeline y almacenarlo todo en conjunto."
   ]
  },
  {
   "cell_type": "code",
   "execution_count": null,
   "id": "9e6fb859-9a17-497e-a92d-12b36a88a735",
   "metadata": {},
   "outputs": [],
   "source": [
    "from sklearn.pipeline import Pipeline\n",
    "from sklearn.preprocessing import RobustScaler, MinMaxScaler\n",
    "from sklearn.linear_model import LogisticRegression\n",
    "from sklearn.compose import ColumnTransformer\n",
    "from sklearn.pipeline import FeatureUnion\n",
    "from sklearn.impute import SimpleImputer\n",
    "from sklearn import set_config\n",
    "\n",
    "# One-Hot encode marital status\n",
    "one_hot_encode_categoricals = ColumnTransformer([\n",
    "    (\n",
    "        'one_hot_encode_marital', # Nombre de la transformación\n",
    "        OneHotEncoder(sparse=False), # Transformación a aplicar\n",
    "        [\"marital\", 'contact', 'education', 'poutcome'] # Columnas involucradas\n",
    "    )\n",
    "])\n",
    "\n",
    "# Bin and encode age\n",
    "bin_and_encode_age_pipeline = Pipeline([\n",
    "    ('bin_age', CutTransformer(bins =  [0, 20, 30, 40, 50, 60, 1000], as_str=True)),\n",
    "    ('encode_age', OneHotEncoder()),\n",
    "])\n",
    "\n",
    "bin_and_encode_age = ColumnTransformer([\n",
    "    ('bin_and_encode_age', bin_and_encode_age_pipeline, [\"age\"])\n",
    "])\n",
    "\n",
    "# Scale balance\n",
    "scale_balance = ColumnTransformer([\n",
    "    (\n",
    "        'scale_balance', # Nombre de la transformación\n",
    "        StandardScaler(), # Transformación a aplicar\n",
    "        [\"balance\"] # Columnas involucradas\n",
    "    )\n",
    "])\n",
    "\n",
    "# Map housing and loan\n",
    "map_housing_loan = ColumnTransformer([\n",
    "    (\n",
    "        'map_housing_loan', # Nombre de la transformación\n",
    "        YesNoTransformer(), # Transformación a aplicar\n",
    "        [\"housing\", 'loan', 'default'] # Columnas involucradas\n",
    "    )\n",
    "])\n",
    "\n",
    "passthrough = ColumnTransformer([('passthrough', 'passthrough', ['campaign', \"pdays\", \"duration\", \"previous\"])])\n",
    "\n",
    "# Ensambla todo el pipeline\n",
    "feature_pipeline = Pipeline([\n",
    "    (\n",
    "        'features',\n",
    "        FeatureUnion([\n",
    "            ('one_hot_encode_categoricals', one_hot_encode_categoricals),\n",
    "            ('bin_and_encode_age', bin_and_encode_age),\n",
    "            ('scale_balance', scale_balance),\n",
    "            ('passthrough', passthrough),\n",
    "            ('map_housing_loan', map_housing_loan),\n",
    "        ])\n",
    "    )\n",
    "])"
   ]
  },
  {
   "cell_type": "code",
   "execution_count": 6,
   "id": "f82bb976-206d-452e-a833-1722b53fd75a",
   "metadata": {},
   "outputs": [
    {
     "ename": "NameError",
     "evalue": "name 'feature_pipeline' is not defined",
     "output_type": "error",
     "traceback": [
      "\u001b[1;31m---------------------------------------------------------------------------\u001b[0m",
      "\u001b[1;31mNameError\u001b[0m                                 Traceback (most recent call last)",
      "Cell \u001b[1;32mIn [6], line 4\u001b[0m\n\u001b[0;32m      1\u001b[0m \u001b[39mfrom\u001b[39;00m \u001b[39msklearn\u001b[39;00m \u001b[39mimport\u001b[39;00m set_config\n\u001b[0;32m      3\u001b[0m set_config(display\u001b[39m=\u001b[39m\u001b[39m\"\u001b[39m\u001b[39mdiagram\u001b[39m\u001b[39m\"\u001b[39m)\n\u001b[1;32m----> 4\u001b[0m feature_pipeline\n",
      "\u001b[1;31mNameError\u001b[0m: name 'feature_pipeline' is not defined"
     ]
    }
   ],
   "source": [
    "from sklearn import set_config\n",
    "\n",
    "set_config(display=\"diagram\")\n",
    "feature_pipeline"
   ]
  },
  {
   "cell_type": "code",
   "execution_count": null,
   "id": "fa5186fe-0613-4d07-9485-a29f6b3acc4b",
   "metadata": {},
   "outputs": [],
   "source": [
    "feature_pipeline.fit(train)\n",
    "\n",
    "temp_train = pd.DataFrame(feature_pipeline.transform(train).toarray())\n",
    "temp_train"
   ]
  },
  {
   "cell_type": "code",
   "execution_count": null,
   "id": "6800e2d0",
   "metadata": {},
   "outputs": [],
   "source": []
  },
  {
   "cell_type": "code",
   "execution_count": null,
   "id": "490ee998-d5ec-4f86-813e-ccd2a178b33f",
   "metadata": {},
   "outputs": [],
   "source": [
    "train"
   ]
  },
  {
   "cell_type": "markdown",
   "id": "408f733f-b09e-4598-89b9-8e590f660367",
   "metadata": {
    "tags": []
   },
   "source": [
    "## Convierte el *target* a enteros"
   ]
  },
  {
   "cell_type": "code",
   "execution_count": null,
   "id": "a2068b53-061f-4171-8987-ae91bb53a5e1",
   "metadata": {},
   "outputs": [],
   "source": [
    "subscribed_frame = train[['subscribed']].copy()\n",
    "subscribed_frame['encoded'] = np.where(subscribed_frame['subscribed'] == 'yes', 1, 0)\n",
    "\n",
    "subscribed_frame.head(10)"
   ]
  },
  {
   "cell_type": "code",
   "execution_count": null,
   "id": "6d79e69b-7ac1-419b-bb5d-6fb229a69d4a",
   "metadata": {},
   "outputs": [],
   "source": [
    "training_target_encoded = np.where(subscribed_frame['subscribed'] == 'yes', 1, 0)"
   ]
  },
  {
   "cell_type": "markdown",
   "id": "2327e8f3-3527-4529-bc9e-aaaf794fd1fe",
   "metadata": {},
   "source": [
    "## Encuentra los mejores parámetros"
   ]
  },
  {
   "cell_type": "code",
   "execution_count": null,
   "id": "565a1ece-6d14-427e-a1a1-8b361ef400fc",
   "metadata": {},
   "outputs": [],
   "source": [
    "from xgboost import XGBClassifier\n",
    "from sklearn.model_selection import GridSearchCV"
   ]
  },
  {
   "cell_type": "code",
   "execution_count": null,
   "id": "978f149d-0f4d-4dd3-a9b5-cba602108719",
   "metadata": {},
   "outputs": [],
   "source": [
    "search_pipeline = Pipeline([\n",
    "    ('feature_pipeline', feature_pipeline),\n",
    "    ('model', XGBClassifier())\n",
    "])"
   ]
  },
  {
   "cell_type": "code",
   "execution_count": null,
   "id": "4b8f866a-2420-4ef2-98b3-41493b381a66",
   "metadata": {},
   "outputs": [],
   "source": [
    "param_grid = {\n",
    "    \"model__n_estimators\": [100, 200, 300],\n",
    "    'model__max_depth': [4, 5, 6],\n",
    "    # 'model__subsample': [0.5, 1],\n",
    "    # 'model__scale_pos_weight': [1, 7.5],\n",
    "    # 'model__eta': [0.01, 0.1, 0.2, 0.3]\n",
    "}\n",
    "search = GridSearchCV(search_pipeline, param_grid, n_jobs=-1, scoring='precision')\n",
    "_ = search.fit(train, training_target_encoded)"
   ]
  },
  {
   "cell_type": "code",
   "execution_count": null,
   "id": "54dc4fc8-57fe-42a2-a155-261fc31beb08",
   "metadata": {},
   "outputs": [],
   "source": [
    "best_params = {key[7:]:value for key, value in search.best_params_.items()}\n",
    "print(\"Best parameters:\", best_params)\n",
    "print(f\"Best score: {search.best_score_:0.3%}\")"
   ]
  },
  {
   "cell_type": "markdown",
   "id": "b4f02dec-e034-44e1-91dc-3c689d169f13",
   "metadata": {},
   "source": [
    "## Reentrena el mejor modelo con los mejores parámetros\n",
    "\n",
    "A pesar de que puedes utilizar el modelo entrenado usando `search.best_estimator_`, es una buena idea **reentrenar** un modelo nuevo **utilizando los mejores parámetros** recien obtenidos y **todos los datos disponibles para entrenamiento**."
   ]
  },
  {
   "cell_type": "code",
   "execution_count": null,
   "id": "bb088b5d-63cf-4caa-bd99-835e9f77cf63",
   "metadata": {},
   "outputs": [],
   "source": [
    "inference_pipeline = Pipeline([\n",
    "    ('feature_pipeline', feature_pipeline),\n",
    "    ('model', XGBClassifier(**best_params))\n",
    "])\n",
    "_ = inference_pipeline.fit(train, training_target_encoded)"
   ]
  },
  {
   "cell_type": "code",
   "execution_count": null,
   "id": "e75ece78-4bc6-4bd1-ad35-e9905012271d",
   "metadata": {},
   "outputs": [],
   "source": [
    "predicciones = inference_pipeline.predict(train)"
   ]
  },
  {
   "cell_type": "code",
   "execution_count": null,
   "id": "b3b2394b-d838-44bd-b6ed-96320058a9ca",
   "metadata": {},
   "outputs": [],
   "source": [
    "from sklearn.metrics import recall_score, precision_score, accuracy_score, confusion_matrix\n",
    "\n",
    "def evaluate(y_true, y_pred):\n",
    "    recall = recall_score(y_true, y_pred)\n",
    "    precision = precision_score(y_true, y_pred)\n",
    "    accuracy = accuracy_score(y_true, y_pred)\n",
    "\n",
    "    print(confusion_matrix(y_true, y_pred))\n",
    "\n",
    "    print(f\"{recall:0.2%} {accuracy:0.2%} {precision:0.2%}\")"
   ]
  },
  {
   "cell_type": "code",
   "execution_count": null,
   "id": "94d8cd23-e53d-43ba-bd3c-1036312fed81",
   "metadata": {},
   "outputs": [],
   "source": [
    "evaluate(training_target_encoded, predicciones)"
   ]
  },
  {
   "cell_type": "markdown",
   "id": "e4a1d811-487a-4d98-88ee-782a45c1833f",
   "metadata": {},
   "source": [
    "## Evaluando con los datos de prueba"
   ]
  },
  {
   "cell_type": "code",
   "execution_count": null,
   "id": "a11cc994-8fd3-46cd-bde3-3f360be4163d",
   "metadata": {},
   "outputs": [],
   "source": [
    "test = pd.read_csv(\"test.csv\")"
   ]
  },
  {
   "cell_type": "code",
   "execution_count": null,
   "id": "aec6203c-e851-4367-92a6-b67dc1ca5704",
   "metadata": {},
   "outputs": [],
   "source": [
    "predicciones_test = inference_pipeline.predict(test)\n",
    "predicciones_test\n",
    "\n",
    "evaluate(np.where(test['subscribed'] == 'yes', 1, 0), predicciones_test)"
   ]
  },
  {
   "cell_type": "code",
   "execution_count": null,
   "id": "7df9fdc7-043c-46b0-938e-b90b528acd5f",
   "metadata": {},
   "outputs": [],
   "source": [
    "test['subscribed'].value_counts()"
   ]
  },
  {
   "cell_type": "markdown",
   "id": "bb894eec-765f-4f11-ab62-831b2695f52f",
   "metadata": {},
   "source": [
    "## Guardando todo el pipeline"
   ]
  },
  {
   "cell_type": "code",
   "execution_count": null,
   "id": "9367cdab-a111-416c-ada6-61b365a2b56f",
   "metadata": {},
   "outputs": [],
   "source": [
    "import pickle\n",
    "\n",
    "with open(\"lead_scoring.pickle\", \"wb\") as wb:\n",
    "    pickle.dump(inference_pipeline, wb)"
   ]
  },
  {
   "cell_type": "markdown",
   "id": "8fbbbbb6-b5c0-49cf-b755-544a6caf92e5",
   "metadata": {},
   "source": [
    "## ¿Y el lead scoring?"
   ]
  },
  {
   "cell_type": "code",
   "execution_count": null,
   "id": "d9099650-2671-4525-a86a-1a8867b6c93c",
   "metadata": {},
   "outputs": [],
   "source": [
    "with open(\"lead_scoring.pickle\", \"rb\") as rb:\n",
    "    lead_scoring = pickle.load(rb)"
   ]
  },
  {
   "cell_type": "code",
   "execution_count": null,
   "id": "1d667dd7-cd7f-47c5-8834-3a1c5b481398",
   "metadata": {},
   "outputs": [],
   "source": [
    "probabilidades = lead_scoring.predict_proba(test)"
   ]
  },
  {
   "cell_type": "markdown",
   "id": "2502006e-a394-4c9c-9725-7284834325ca",
   "metadata": {},
   "source": [
    " > ℹ️ `predict_proba` regresa un arreglo de tamaño *(n_samples, n_classes)*, en donde las clases están dadas en el orden dictado por `lead_scoring.classes_`"
   ]
  },
  {
   "cell_type": "code",
   "execution_count": null,
   "id": "76b06c0e-f0b8-403b-ae90-2e28b89c5059",
   "metadata": {},
   "outputs": [],
   "source": [
    "lead_scoring.classes_"
   ]
  },
  {
   "cell_type": "code",
   "execution_count": null,
   "id": "4eeada77-db6a-4bb1-b5aa-de1f4d4be3f0",
   "metadata": {},
   "outputs": [],
   "source": [
    "test['score'] = probabilidades[:, 1]"
   ]
  },
  {
   "cell_type": "code",
   "execution_count": null,
   "id": "86adeacf-9c76-48ae-808e-3253259b2465",
   "metadata": {},
   "outputs": [],
   "source": [
    "test[[\"ID\", \"score\"]].sort_values('score', ascending=False)"
   ]
  },
  {
   "cell_type": "markdown",
   "id": "8007cfd0-fae1-48dd-a1cc-d314474fe3f6",
   "metadata": {},
   "source": [
    "#### "
   ]
  }
 ],
 "metadata": {
  "kernelspec": {
   "display_name": "cienciadatos",
   "language": "python",
   "name": "cienciadatos"
  },
  "language_info": {
   "codemirror_mode": {
    "name": "ipython",
    "version": 3
   },
   "file_extension": ".py",
   "mimetype": "text/x-python",
   "name": "python",
   "nbconvert_exporter": "python",
   "pygments_lexer": "ipython3",
   "version": "3.9.12"
  }
 },
 "nbformat": 4,
 "nbformat_minor": 5
}
